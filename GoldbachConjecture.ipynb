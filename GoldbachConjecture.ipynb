{
 "cells": [
  {
   "cell_type": "markdown",
   "id": "d2ab57e1-08de-4b7b-a3ef-64fd77db5c35",
   "metadata": {},
   "source": [
    "#### Student Name: Mai Ngo\n",
    "#### Course Name and Number: DSC 430 Python Programming\n",
    "#### Assignment Name and Number: Assignment0301_GoldbachConjecture\n",
    "#### Date: 1/23/2023\n",
    "#### Honor Statement: “I have not given or received any unauthorized assistance on this assignment.\""
   ]
  },
  {
   "cell_type": "markdown",
   "id": "4dde82f4-e519-4e35-a405-8b850748fb62",
   "metadata": {},
   "source": [
    "#### Assumption:"
   ]
  },
  {
   "cell_type": "markdown",
   "id": "f531dd2c-7262-4f36-93a4-fb0e894e9c8b",
   "metadata": {},
   "source": [
    "I still do this homework as user interaction.\n",
    "Entered number by user: needs to verify even, 0 < num <= 100. Testing numbers negative, greater than 0, rational (float) number, odd number. \n",
    "You mentioned in my last grading rubik: \"show your interaction and the code working at the bottom\", so I put defmain() at the end. "
   ]
  },
  {
   "cell_type": "markdown",
   "id": "4bb0e17f-6674-462a-b13a-5533471c8a49",
   "metadata": {},
   "source": [
    "#### How I find two primes to sum to the given integer:"
   ]
  },
  {
   "cell_type": "markdown",
   "id": "d831ebd4-7c1c-4ffa-af18-e33f647499dc",
   "metadata": {},
   "source": [
    "I realized that depend on how I code this part, which pair of numbers will return. \\\n",
    "After finding a list of prime factors for the integer. I used nested loop to iterate over the list to get first prime number, then the second prime number. \\\n",
    "The range are the same for both since '4 = 2 + 2', I iterate through the same numlist and same prime number concatenation is allowable. \\\n",
    "If the two numbers add up equal to the integer, I store both value in set() data structure to avoid duplicate pair '16 = 3+13 and 16 = 13+3'."
   ]
  },
  {
   "cell_type": "markdown",
   "id": "d87f2720-b262-43c5-bf6c-8fe23eacf557",
   "metadata": {},
   "source": [
    "#### Are you hard-coding prime number?: No"
   ]
  },
  {
   "cell_type": "markdown",
   "id": "4fb6f659-7220-4db5-9443-5ee2e5b2374e",
   "metadata": {},
   "source": [
    "#### How my code can be extended to work with any number:"
   ]
  },
  {
   "cell_type": "markdown",
   "id": "a700f5d6-32f0-4f8b-bdb9-d20b511ad224",
   "metadata": {},
   "source": [
    "def printPrime() and isPrime() will work with any given number. \\\n",
    "I was struggle to understand prime number properly at first. So I coded using basic knowledge of prime numbers. \\\n",
    "Detail in def isPrime()"
   ]
  },
  {
   "cell_type": "markdown",
   "id": "36777146-952e-4136-8795-7c23cd808cb2",
   "metadata": {},
   "source": [
    "#### Do I think my code is efficient? "
   ]
  },
  {
   "cell_type": "markdown",
   "id": "f8ed5d88-1238-4e48-acd4-d9fc75274ac7",
   "metadata": {},
   "source": [
    "Yes because I always thinks of all possibilites when I code. \\\n",
    "Functions that determine prime numbers work independently. \\\n",
    "Also, two functions to for final result, primePair and sumPair, work independently. \\\n",
    "The only constraint in my code is number 0<number<100 follwing homework requirement.  "
   ]
  },
  {
   "cell_type": "markdown",
   "id": "8f945497-f811-42d5-b553-2420ec41f753",
   "metadata": {},
   "source": [
    "#### Ways to optimize it: Not that I can think of now."
   ]
  },
  {
   "cell_type": "code",
   "execution_count": 399,
   "id": "901cdb66-f36c-4bdb-ad10-d75549fae064",
   "metadata": {},
   "outputs": [],
   "source": [
    "def whatsUp(): \n",
    "    '''Greeting users entering the program and giving introduction.'''\n",
    "    \n",
    "    print(\"Welcome to the Goldbach's Conjecture test.\")\n",
    "    print(\"In this test, you will give us an even integer and we will return two prime numbers sum up to that integer.\")\n",
    "    #Greet users and give a brief introduction about the program."
   ]
  },
  {
   "cell_type": "code",
   "execution_count": 397,
   "id": "3d2a4dc1-6459-4e28-b4ae-ad7178fb451e",
   "metadata": {},
   "outputs": [],
   "source": [
    "def askInput():\n",
    "    '''Asking users to give one postive integer less than 100.'''\n",
    "    \n",
    "    n = int(eval(input(\"Please input a positive integer less than 100:\")))\n",
    "    #Asking user to input an integer, following with a prompt to guide users answering input.\n",
    "    #Using \"eval\" to convert string to number.\n",
    "    #Using \"int\" incase users enter rational number. Round down: 3.9 will be 3\n",
    "    \n",
    "    while True:\n",
    "    #Using infinite loop pattern to keep asking user incase the entered number doesn't meet requirement.\n",
    "    \n",
    "        if n > 0 and n < 100:\n",
    "        #Verify if entered number is even, greater than 0, and less than or equal too 100.\n",
    "            break \n",
    "            #Stop the loop if satisfy conditions.\n",
    "            \n",
    "        else: n = int(eval(input(\"Entered value is not acceptable. Please enter POSITIVE value < 100:\")))\n",
    "        #If not satisfied the conditions, user will be asked again to enter number correctly.\n",
    "        \n",
    "    return n "
   ]
  },
  {
   "cell_type": "code",
   "execution_count": 412,
   "id": "4188c682-8f91-4a2a-a0c2-2fe1a24191be",
   "metadata": {},
   "outputs": [],
   "source": [
    "def printPrime(n):\n",
    "    '''Print all prime numbers of integer n given by user.'''\n",
    "    \n",
    "    numlst=[]\n",
    "    #Generate a list for all prime numbers with given integer. Easy for iteration.\n",
    "    \n",
    "    for i in range(2, n + 1):\n",
    "    #Iterate through each number from 2 to n. Give \"n+1\" because I want iterate through n.\n",
    "    \n",
    "        if isPrime(i):\n",
    "        #Testing if the number is a prime number.\n",
    "            numlst.append(i)\n",
    "            #Print the number.\n",
    "            \n",
    "    return numlst\n",
    "    #Return a list of all prime numbers."
   ]
  },
  {
   "cell_type": "code",
   "execution_count": 396,
   "id": "44c43069-9bbb-4b74-b086-cda5151cdd71",
   "metadata": {},
   "outputs": [],
   "source": [
    "def isPrime(n):\n",
    "    '''Test whether given number n is a prime number.'''\n",
    "    import math\n",
    "    #Give access to the math module.\n",
    "    #At this point n is an integer.\n",
    "    \n",
    "    if n == 2:\n",
    "        return True\n",
    "        #2 is a prime number. \n",
    "        \n",
    "    if n % 2 == 0 or n < 2: \n",
    "        return False\n",
    "        #If the number is even (divisible by 2), or less than 2 (would be 1). These are not prime numbers.\n",
    "        \n",
    "    for i in range(3, int(math.sqrt(n)+1), 2):  \n",
    "    #Create a range from 3 to the square root of the number. \n",
    "    #Starting from 3 because we have examined if number <= 2.\n",
    "    #Taking square root of the number because incase of factor pair, one of the factors must be equal to or less than the number's square root.\n",
    "    #Taking plus 1 because Python round down for integer value.\n",
    "    #Using 2 steps in the range to only examine odd value, since we already examined even value.\n",
    "    \n",
    "        if n%i==0:\n",
    "        #If the number is divisiable by any number in this range. It is not prime numbers.\n",
    "            return False \n",
    "        \n",
    "    return True\n",
    "    #If it is not divisible by any above factors, this is a prime number."
   ]
  },
  {
   "cell_type": "code",
   "execution_count": 411,
   "id": "2c1fd299-72e3-4a59-8700-bff512bad1aa",
   "metadata": {},
   "outputs": [],
   "source": [
    "def primePair(n, primelst):\n",
    "    '''Return two primes sum up to given integer.'''\n",
    "    \n",
    "    numlist = set()\n",
    "    #Assign a numlist variable with set() data structure. \n",
    "    #So that every stored data is unique.\n",
    "    \n",
    "    for m in range(len(primelst)):\n",
    "    #First index iteration over the list of all prime numbers.\n",
    "        prime1 = primelst[m]\n",
    "        #Assign first prime number prime1.\n",
    "        \n",
    "        for l in range(len(primelst)):\n",
    "            #Second index iteration over the list of all prime numbers. \n",
    "            prime2 = primelst[l]\n",
    "            #Assign second prime number prime2.\n",
    "            \n",
    "            if prime2 not in numlist:\n",
    "            #Check whether second prime number is alrady in set() numlist.\n",
    "            #This to avoid duplication. '16 = 3+13 and 16 = 13+3'\n",
    "            \n",
    "                if primelst[m]+primelst[l]==n:\n",
    "                #If first prime number + second prime number equal to given integer\n",
    "                    numlist.add(prime1)\n",
    "                    numlist.add(prime2) \n",
    "                    #Adding both numbers to the set() numlist.\n",
    "                    \n",
    "                    return f'''{n} = {primelst[m]} + {primelst[l]}'''\n",
    "                    #Return instead of print: will give the first summable pair of primes.\n",
    "                    #Since only need to displays one set/pair of numbers."
   ]
  },
  {
   "cell_type": "code",
   "execution_count": 410,
   "id": "b058a10e-3829-4d3e-899d-059d8232e3cc",
   "metadata": {},
   "outputs": [],
   "source": [
    "def sumPairs(n):\n",
    "    '''Return result of every integer (two primes sum up), within the range of given integer.'''\n",
    "    \n",
    "    for k in range (4, n+1):\n",
    "    #Iterate over each number within the range of given integer. \n",
    "    #Starting from 4 because neither 2 or 3 has two summable primes. \n",
    "    #Give \"n+1\" so that can iterate to n. Incase where user enter '98'.\n",
    "    \n",
    "        if k%2 == 0: \n",
    "        #Only use even integers, divisible by 2.\n",
    "        \n",
    "            prime_list = printPrime(k)\n",
    "            #List of prime number corresponding to integer k using def printPrime()\n",
    "            num_result = primePair(k, prime_list)\n",
    "            #Assign variable num_result to get sum of two primes with given k integer using def primePairs()\n",
    "            print (num_result)\n",
    "            \n",
    "    return \n",
    "    #return result for all even integers "
   ]
  },
  {
   "cell_type": "code",
   "execution_count": 408,
   "id": "104efd3e-3021-4829-96b2-77d1659d2add",
   "metadata": {},
   "outputs": [],
   "source": [
    "def main():\n",
    "    '''Main function that links all other functions.'''\n",
    "    \n",
    "    hi_meesage = whatsUp()\n",
    "    integer_message = askInput()\n",
    "    numlist_message = printPrime(integer_message)\n",
    "    result = primePair(integer_message, numlist_message)\n",
    "    summary_message = sumPairs(integer_message)"
   ]
  },
  {
   "cell_type": "code",
   "execution_count": 413,
   "id": "b53d84b7-6b8f-4360-b6e3-cbb82dfd8455",
   "metadata": {},
   "outputs": [
    {
     "name": "stdout",
     "output_type": "stream",
     "text": [
      "Welcome to the Goldbach's Conjecture test.\n",
      "In this test, you will give us an even integer and we will return two prime numbers sum up to that integer.\n"
     ]
    },
    {
     "name": "stdin",
     "output_type": "stream",
     "text": [
      "Please input a positive integer less than 100: -44\n",
      "Entered value is not acceptable. Please enter POSITIVE value < 100: 144\n",
      "Entered value is not acceptable. Please enter POSITIVE value < 100: 100\n",
      "Entered value is not acceptable. Please enter POSITIVE value < 100: 88.9\n"
     ]
    },
    {
     "name": "stdout",
     "output_type": "stream",
     "text": [
      "4 = 2 + 2\n",
      "6 = 3 + 3\n",
      "8 = 3 + 5\n",
      "10 = 3 + 7\n",
      "12 = 5 + 7\n",
      "14 = 3 + 11\n",
      "16 = 3 + 13\n",
      "18 = 5 + 13\n",
      "20 = 3 + 17\n",
      "22 = 3 + 19\n",
      "24 = 5 + 19\n",
      "26 = 3 + 23\n",
      "28 = 5 + 23\n",
      "30 = 7 + 23\n",
      "32 = 3 + 29\n",
      "34 = 3 + 31\n",
      "36 = 5 + 31\n",
      "38 = 7 + 31\n",
      "40 = 3 + 37\n",
      "42 = 5 + 37\n",
      "44 = 3 + 41\n",
      "46 = 3 + 43\n",
      "48 = 5 + 43\n",
      "50 = 3 + 47\n",
      "52 = 5 + 47\n",
      "54 = 7 + 47\n",
      "56 = 3 + 53\n",
      "58 = 5 + 53\n",
      "60 = 7 + 53\n",
      "62 = 3 + 59\n",
      "64 = 3 + 61\n",
      "66 = 5 + 61\n",
      "68 = 7 + 61\n",
      "70 = 3 + 67\n",
      "72 = 5 + 67\n",
      "74 = 3 + 71\n",
      "76 = 3 + 73\n",
      "78 = 5 + 73\n",
      "80 = 7 + 73\n",
      "82 = 3 + 79\n",
      "84 = 5 + 79\n",
      "86 = 3 + 83\n",
      "88 = 5 + 83\n"
     ]
    }
   ],
   "source": [
    "main()"
   ]
  },
  {
   "cell_type": "code",
   "execution_count": 414,
   "id": "aefaccf5-c64c-4bc6-847d-f88309c2132c",
   "metadata": {},
   "outputs": [
    {
     "name": "stdout",
     "output_type": "stream",
     "text": [
      "Welcome to the Goldbach's Conjecture test.\n",
      "In this test, you will give us an even integer and we will return two prime numbers sum up to that integer.\n"
     ]
    },
    {
     "name": "stdin",
     "output_type": "stream",
     "text": [
      "Please input a positive integer less than 100: 99\n"
     ]
    },
    {
     "name": "stdout",
     "output_type": "stream",
     "text": [
      "4 = 2 + 2\n",
      "6 = 3 + 3\n",
      "8 = 3 + 5\n",
      "10 = 3 + 7\n",
      "12 = 5 + 7\n",
      "14 = 3 + 11\n",
      "16 = 3 + 13\n",
      "18 = 5 + 13\n",
      "20 = 3 + 17\n",
      "22 = 3 + 19\n",
      "24 = 5 + 19\n",
      "26 = 3 + 23\n",
      "28 = 5 + 23\n",
      "30 = 7 + 23\n",
      "32 = 3 + 29\n",
      "34 = 3 + 31\n",
      "36 = 5 + 31\n",
      "38 = 7 + 31\n",
      "40 = 3 + 37\n",
      "42 = 5 + 37\n",
      "44 = 3 + 41\n",
      "46 = 3 + 43\n",
      "48 = 5 + 43\n",
      "50 = 3 + 47\n",
      "52 = 5 + 47\n",
      "54 = 7 + 47\n",
      "56 = 3 + 53\n",
      "58 = 5 + 53\n",
      "60 = 7 + 53\n",
      "62 = 3 + 59\n",
      "64 = 3 + 61\n",
      "66 = 5 + 61\n",
      "68 = 7 + 61\n",
      "70 = 3 + 67\n",
      "72 = 5 + 67\n",
      "74 = 3 + 71\n",
      "76 = 3 + 73\n",
      "78 = 5 + 73\n",
      "80 = 7 + 73\n",
      "82 = 3 + 79\n",
      "84 = 5 + 79\n",
      "86 = 3 + 83\n",
      "88 = 5 + 83\n",
      "90 = 7 + 83\n",
      "92 = 3 + 89\n",
      "94 = 5 + 89\n",
      "96 = 7 + 89\n",
      "98 = 19 + 79\n"
     ]
    }
   ],
   "source": [
    "main()"
   ]
  }
 ],
 "metadata": {
  "kernelspec": {
   "display_name": "Python 3 (ipykernel)",
   "language": "python",
   "name": "python3"
  },
  "language_info": {
   "codemirror_mode": {
    "name": "ipython",
    "version": 3
   },
   "file_extension": ".py",
   "mimetype": "text/x-python",
   "name": "python",
   "nbconvert_exporter": "python",
   "pygments_lexer": "ipython3",
   "version": "3.9.13"
  }
 },
 "nbformat": 4,
 "nbformat_minor": 5
}
