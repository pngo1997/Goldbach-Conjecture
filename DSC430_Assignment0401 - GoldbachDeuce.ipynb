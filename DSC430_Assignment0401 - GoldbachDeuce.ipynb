{
 "cells": [
  {
   "cell_type": "markdown",
   "id": "abdce311-b27a-41c8-a476-91d16a29b02d",
   "metadata": {},
   "source": [
    "#### Student Name: Mai Ngo\n",
    "#### Course Name and Number: DSC 430 Python Programming\n",
    "#### Assignment Name and Number: Assignment0401 - GoldbachDeuce\n",
    "#### Date: 1/30/2023\n",
    "#### Honor Statement: “I have not given or received any unauthorized assistance on this assignment.\""
   ]
  },
  {
   "cell_type": "markdown",
   "id": "a2c22287-f0a7-49a0-983e-e7893bb68685",
   "metadata": {},
   "source": [
    "#### Assumption:"
   ]
  },
  {
   "cell_type": "markdown",
   "id": "c92b2ce9-08b7-4b14-887f-97e4bcff280a",
   "metadata": {},
   "source": [
    "For users' input, tackle both negative and float/rational numbers. Exit by clicking x.\n",
    "\n",
    "Since integers between 1 and 100. Max sum is 100+99 = 199. If users enter 'sum'> 199. Return \"No Number...\"\n",
    "-> I code this in printResult()"
   ]
  },
  {
   "cell_type": "markdown",
   "id": "b9079486-3552-4632-aa45-2f1b6237c190",
   "metadata": {},
   "source": [
    "#### Explain how you approach work."
   ]
  },
  {
   "cell_type": "markdown",
   "id": "5e43b851-b415-4976-8c15-305906e7cc3c",
   "metadata": {},
   "source": [
    "Using top-down design:\n",
    "\n",
    "    * whatsUp()\n",
    "    * askInput()\n",
    "    * printResult():\n",
    "          + lookSum()\n",
    "    * wishExit()\n",
    "    \n",
    "I started with writing whatsUp(), wishExit(), and askInput() functions since I already have the frame from previous assignments. Also, I want to use them as my coding signature. \n",
    "\n",
    "NOTE: I have the sorted list print out in every round. It it not required in the assignment question, but you mention we can do that in the Discussion board. It helps me with checking my code.\n",
    "\n",
    "Then I wrote lookSum() based on my understanding of O(n log n). Wrote an O(n) time complexity first - no brainer. Then wrote O(log n) complexity for togo search. The recursive step took me couple hours to map that out (after I wrote all the steps in paper).\n",
    "\n",
    "Then I wrote printResult() as last one. I was thinking have lookSum() and printResult() together... not effective... but since you're asking for my approach toward this problem I just mention it."
   ]
  },
  {
   "cell_type": "markdown",
   "id": "39691c63-7907-4d34-a100-9a51e2d31979",
   "metadata": {},
   "source": [
    "#### Explain why your code runs in O(n.log(n))."
   ]
  },
  {
   "cell_type": "markdown",
   "id": "94d32ed0-2ed2-4f08-b00f-419b0bd8079a",
   "metadata": {},
   "source": [
    "O(n.log(n)) is a time complexity algorithm where log(n) will operate n times - this is the best way I can understand and explain the concept of log linear. \n",
    "\n",
    "Further explanation in def lookSum(), \n",
    "\n",
    "    * The outter algorithm  is  O(n) - linear algorithm which iterate/search each element in given n_list.\n",
    "    * The 'togo' - binary search is O(logn). Which we studied in class searching for LOW and HIGH range.\n",
    " \n",
    " Step breakdown:\n",
    " \n",
    "     * First time complexity O(n): iterate/search over each num in n_list. \n",
    "     * Find a togo value (target num - num). \n",
    "     * Second time complexity O(log n): binary_search to look for togo value. \n",
    "         + This iteration is only for EACH num in n_list to find match 'togo'.\n",
    "     *Recurs until find the pair of numbers.\n",
    "         + Move on to the next num in n_list. Follow by O(log n) operation."
   ]
  },
  {
   "cell_type": "code",
   "execution_count": 211,
   "id": "b9cf4f86-96a0-416d-9343-cb5c87dd3776",
   "metadata": {},
   "outputs": [],
   "source": [
    "def whatsUp(): \n",
    "    '''Greeting users entering the program and giving introduction.'''\n",
    "    \n",
    "    print(\"Welcome to GOLDBACH DEUCE!\")\n",
    "    print(\"A little introduction: You will give us an integer 'n' and a target number 'sum'.\")\n",
    "    print(\"We will generate a list of n random integers between 1 and 100.\")\n",
    "    print(\"And will let you know if any number in that list add up to the target 'sum'.\")\n",
    "    print(\"User have a choice to exit after each round by clicking 'x' button. Have fun!\")\n",
    "    #Greet users and give a brief introduction about the program."
   ]
  },
  {
   "cell_type": "code",
   "execution_count": 222,
   "id": "f2b2f9bb-1b7a-40d0-88e7-555c0da3f5f5",
   "metadata": {},
   "outputs": [],
   "source": [
    "def askInput():\n",
    "    '''Asking users to give one postive integer 'n' and one target number 'sum'.'''\n",
    "    import random\n",
    "    n = int(abs(eval(input(\"Please input an integer:\"))))\n",
    "    sum = int(abs(eval(input(\"Please input a target sum number:\"))))\n",
    "    #Asking user to input a number. Using \"eval\" to convert string to number.\n",
    "    #Using \"abs\" incase users enter negative value.\n",
    "    #Using \"int\" incase users enter rational number. Round down: 3.9 will be 3\n",
    "    \n",
    "    n_list = [random.randrange(1,101) for i in range (n)]\n",
    "    #Create a list that returns 'n' randomly selected numbers between 1 and 100.\n",
    "    n_list = sorted(n_list)\n",
    "    #Sorted n_list for binary search.\n",
    "    \n",
    "    print(n_list)\n",
    "    #Print statement to always print sorted n_list for every new round.\n",
    "    return n_list, sum"
   ]
  },
  {
   "cell_type": "code",
   "execution_count": 213,
   "id": "d8b78ca1-b43c-4b69-8dee-88a6808daf9d",
   "metadata": {},
   "outputs": [],
   "source": [
    "def lookSum(n_list, sum):\n",
    "    '''Look for a pair of numbers that add up to 'sum'.'''\n",
    "    for num in n_list:\n",
    "    #First time complexity O(n): iterate/search over each num in n_list.\n",
    "    \n",
    "        togo = sum - num\n",
    "        #Assign 'togo' variable: residual of sum minus num.\n",
    "        low = 0\n",
    "        #Initiate binary_search. Set Low range (index iteration). 0 because of the first index.\n",
    "        high = len (n_list) - 1\n",
    "        #Set max index of High range, length of the list -1 (index iteration).\n",
    "        \n",
    "        while low <= high:\n",
    "        #If there is still a range to search.\n",
    "        #This iteration is only for EACH num in n_list to find match 'togo'.\n",
    "        #Second time complexity O(log n): binary_search to look for togo value.\n",
    "        \n",
    "            mid = int((low + high) / 2)\n",
    "            #Assign 'mid' varible to calculate the index of middle item.\n",
    "            gold_num = n_list [mid]\n",
    "            #Assign 'gold_num' variable to retrieve actual number value at index 'mid'.\n",
    "            #Gold_num is the middle value of a SORTED list.\n",
    "            #Compare 'gold_num' and 'togo'.\n",
    "            \n",
    "            if togo == gold_num:\n",
    "            #If togo equal to gold_num. The residual is in the list.\n",
    "                return num, togo\n",
    "                \n",
    "            elif togo < gold_num:\n",
    "            #If togo less than gold_num. Move High range to under gold_num value.\n",
    "                high = mid -1\n",
    "                #With mid is gold_num's index.\n",
    "                \n",
    "            else:\n",
    "            #If togo greater than gold_num. Move Low range to above gold_num value.\n",
    "                low = mid + 1\n",
    "                #With mid is gold_num's index.\n",
    "        else: \n",
    "        #Move on to the next num in n_list. Follow by O(log n) operation.\n",
    "        \n",
    "            n_list = n_list[1:]\n",
    "            #Initiate num as next element in n_list.\n",
    "            lookSum(n_list, sum)\n",
    "            #Recurs again until find the pair of numbers.\n",
    "    return"
   ]
  },
  {
   "cell_type": "code",
   "execution_count": 246,
   "id": "20c11b6e-be3a-411c-af1a-9f07eb76c13e",
   "metadata": {},
   "outputs": [],
   "source": [
    "def printResult(n_list, sum):\n",
    "    '''Show user result whether there is a pair of numbers that are sum up to target value.'''\n",
    "    if sum > 199:\n",
    "    #Follow assumption, max sum would be 199. \n",
    "    #Return immidiately \"no number...\" without further calculation.\n",
    "        print (\"No numbers sum up to target sum {}\".format(sum))\n",
    "        \n",
    "    elif lookSum(n_list, sum):\n",
    "    #Using def lookSum() \n",
    "        num, togo = lookSum(n_list, sum)\n",
    "        #Retrieve num and togo value from def lookSum() to print result.\n",
    "        print (\"{}, {} sum up to target sum {}\". format(num, togo, sum))\n",
    "        \n",
    "    else: \n",
    "    #If there is no pair of numbers qualified, print below statement with target 'sum' value.\n",
    "        print (\"No numbers sum up to target sum {}\".format(sum))\n",
    "    return"
   ]
  },
  {
   "cell_type": "code",
   "execution_count": 244,
   "id": "713cf4e5-467b-40d2-a630-f13b3d1f2123",
   "metadata": {},
   "outputs": [],
   "source": [
    "def wishExit():\n",
    "    '''Asking user if they wish to exit or continue the program.'''\n",
    "    \n",
    "    choice = input('Please press any key to continue, or \"X\" to exit:')\n",
    "    #Asking user if they want to continue or exit to program.\n",
    "    \n",
    "    while choice not in 'Xx':\n",
    "    #If user choose to continue the program. This loop will keep repeating until user wish to exit. \n",
    "    \n",
    "        n_list, sum = askInput()\n",
    "        #Ask user for new inputs. Assign to new variables.        \n",
    "        printResult(n_list, sum)\n",
    "        #Using printResult() function to start over.\n",
    "        choice = input('Please press any key to continue, or \"X\" to exit:')\n",
    "        #Asking user again if they want to continue or exit to program.\n",
    "        \n",
    "    else: print (\"THE END. \\nThank you for joining!\")\n",
    "    #When user choose to exit the program.The end."
   ]
  },
  {
   "cell_type": "code",
   "execution_count": 248,
   "id": "d0e4ba0a-b51f-47ad-93d9-560b640d2c73",
   "metadata": {},
   "outputs": [],
   "source": [
    "def main():\n",
    "    whatsUp()\n",
    "    \n",
    "    list_message, sum_message = askInput()\n",
    "    printResult(list_message, sum_message)\n",
    "    wishExit()"
   ]
  },
  {
   "cell_type": "code",
   "execution_count": 252,
   "id": "ce791c3f-dfcf-4bc6-901b-97690a0c1021",
   "metadata": {},
   "outputs": [
    {
     "name": "stdout",
     "output_type": "stream",
     "text": [
      "Welcome to GOLDBACH DEUCE!\n",
      "A little introduction: You will give us an integer 'n' and a target number 'sum'.\n",
      "We will generate a list of n random integers between 1 and 100.\n",
      "And will let you know if any number in that list add up to the target 'sum'.\n",
      "User have a choice to exit after each round by clicking 'x' button. Have fun!\n"
     ]
    },
    {
     "name": "stdin",
     "output_type": "stream",
     "text": [
      "Please input an integer: 10\n",
      "Please input a target sum number: 70\n"
     ]
    },
    {
     "name": "stdout",
     "output_type": "stream",
     "text": [
      "[14, 28, 30, 32, 42, 56, 56, 71, 78, 89]\n",
      "14, 56 sum up to target sum 70\n"
     ]
    },
    {
     "name": "stdin",
     "output_type": "stream",
     "text": [
      "Please press any key to continue, or \"X\" to exit: m\n",
      "Please input an integer: 15\n",
      "Please input a target sum number: 300\n"
     ]
    },
    {
     "name": "stdout",
     "output_type": "stream",
     "text": [
      "[2, 3, 6, 9, 29, 36, 46, 54, 55, 56, 58, 64, 83, 86, 86]\n",
      "No numbers sum up to target sum 300\n"
     ]
    },
    {
     "name": "stdin",
     "output_type": "stream",
     "text": [
      "Please press any key to continue, or \"X\" to exit: a\n",
      "Please input an integer: 20\n",
      "Please input a target sum number: 60\n"
     ]
    },
    {
     "name": "stdout",
     "output_type": "stream",
     "text": [
      "[2, 3, 6, 6, 7, 10, 15, 17, 19, 23, 24, 27, 41, 52, 68, 75, 80, 88, 91, 97]\n",
      "19, 41 sum up to target sum 60\n"
     ]
    },
    {
     "name": "stdin",
     "output_type": "stream",
     "text": [
      "Please press any key to continue, or \"X\" to exit: i\n",
      "Please input an integer: 12\n",
      "Please input a target sum number: 69\n"
     ]
    },
    {
     "name": "stdout",
     "output_type": "stream",
     "text": [
      "[5, 11, 25, 46, 50, 53, 54, 57, 69, 72, 72, 84]\n",
      "No numbers sum up to target sum 69\n"
     ]
    },
    {
     "name": "stdin",
     "output_type": "stream",
     "text": [
      "Please press any key to continue, or \"X\" to exit: x\n"
     ]
    },
    {
     "name": "stdout",
     "output_type": "stream",
     "text": [
      "THE END. \n",
      "Thank you for joining!\n"
     ]
    }
   ],
   "source": [
    "main()"
   ]
  }
 ],
 "metadata": {
  "kernelspec": {
   "display_name": "Python 3 (ipykernel)",
   "language": "python",
   "name": "python3"
  },
  "language_info": {
   "codemirror_mode": {
    "name": "ipython",
    "version": 3
   },
   "file_extension": ".py",
   "mimetype": "text/x-python",
   "name": "python",
   "nbconvert_exporter": "python",
   "pygments_lexer": "ipython3",
   "version": "3.9.13"
  }
 },
 "nbformat": 4,
 "nbformat_minor": 5
}
